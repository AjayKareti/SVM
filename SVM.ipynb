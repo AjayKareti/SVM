    "#import necessary Libraries\n",
    "import numpy as np\n",
    "import pandas as pd\n",
    "import matplotlib.pyplot as plt\n",
    "from sklearn.svm import SVC\n",
    "from sklearn.model_selection import train_test_split\n",
    "from sklearn.metrics import accuracy_score, precision_score, recall_score, f1_score\n",
    "from sklearn.datasets import load_iris"
   
   "#load the dataset\n",
    "iris=load_iris()\n",
    "X=iris.data\n",
    "y=iris.target"   
    
    "X"
       
    "y"
 
    "#creating SVM classifier\n",
    "classifier = SVC(kernel='linear')"
  
"SVC(kernel='linear')"

    "#train the data using fit() function\n",
    "classifier.fit(X_train, y_train)"
  
    "#make predictions on Test data\n",
    "y_pred = classifier.predict(X_test)"
  
     
    "y_pred"
 
    "# Calculate the accuracy, precision, recall, and F1 score\n",
    "accuracy = accuracy_score(y_test, y_pred)\n",
    "precision = precision_score(y_test, y_pred, average='macro')\n",
    "recall = recall_score(y_test, y_pred, average='macro')\n",
    "f1 = f1_score(y_test, y_pred, average='macro')"
 
    
    "accuracy"
  
    
       "0.975609756097561"
   
    "precision"
 
   
       "0.9743589743589745"
    

    "recall"
  
       "0.9740084388185655"
   
    "f1"
 

 
